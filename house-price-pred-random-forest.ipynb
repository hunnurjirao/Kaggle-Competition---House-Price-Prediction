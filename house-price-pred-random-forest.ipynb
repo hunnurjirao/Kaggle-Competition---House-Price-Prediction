{
 "cells": [
  {
   "cell_type": "code",
   "execution_count": 1,
   "id": "b0277621",
   "metadata": {
    "_cell_guid": "b1076dfc-b9ad-4769-8c92-a6c4dae69d19",
    "_uuid": "8f2839f25d086af736a60e9eeb907d3b93b6e0e5",
    "execution": {
     "iopub.execute_input": "2022-08-23T07:22:12.474812Z",
     "iopub.status.busy": "2022-08-23T07:22:12.473987Z",
     "iopub.status.idle": "2022-08-23T07:22:12.488668Z",
     "shell.execute_reply": "2022-08-23T07:22:12.487365Z"
    },
    "papermill": {
     "duration": 0.030596,
     "end_time": "2022-08-23T07:22:12.491715",
     "exception": false,
     "start_time": "2022-08-23T07:22:12.461119",
     "status": "completed"
    },
    "tags": []
   },
   "outputs": [
    {
     "name": "stdout",
     "output_type": "stream",
     "text": [
      "/kaggle/input/house-prices-advanced-regression-techniques/sample_submission.csv\n",
      "/kaggle/input/house-prices-advanced-regression-techniques/data_description.txt\n",
      "/kaggle/input/house-prices-advanced-regression-techniques/train.csv\n",
      "/kaggle/input/house-prices-advanced-regression-techniques/test.csv\n"
     ]
    }
   ],
   "source": [
    "# This Python 3 environment comes with many helpful analytics libraries installed\n",
    "# It is defined by the kaggle/python Docker image: https://github.com/kaggle/docker-python\n",
    "# For example, here's several helpful packages to load\n",
    "\n",
    "import numpy as np # linear algebra\n",
    "import pandas as pd # data processing, CSV file I/O (e.g. pd.read_csv)\n",
    "\n",
    "# Input data files are available in the read-only \"../input/\" directory\n",
    "# For example, running this (by clicking run or pressing Shift+Enter) will list all files under the input directory\n",
    "\n",
    "import os\n",
    "for dirname, _, filenames in os.walk('/kaggle/input'):\n",
    "    for filename in filenames:\n",
    "        print(os.path.join(dirname, filename))\n",
    "\n",
    "# You can write up to 20GB to the current directory (/kaggle/working/) that gets preserved as output when you create a version using \"Save & Run All\" \n",
    "# You can also write temporary files to /kaggle/temp/, but they won't be saved outside of the current session"
   ]
  },
  {
   "cell_type": "code",
   "execution_count": 2,
   "id": "4c129297",
   "metadata": {
    "execution": {
     "iopub.execute_input": "2022-08-23T07:22:12.512090Z",
     "iopub.status.busy": "2022-08-23T07:22:12.511379Z",
     "iopub.status.idle": "2022-08-23T07:22:12.602262Z",
     "shell.execute_reply": "2022-08-23T07:22:12.601180Z"
    },
    "papermill": {
     "duration": 0.103628,
     "end_time": "2022-08-23T07:22:12.604963",
     "exception": false,
     "start_time": "2022-08-23T07:22:12.501335",
     "status": "completed"
    },
    "tags": []
   },
   "outputs": [],
   "source": [
    "train = pd.read_csv('../input/house-prices-advanced-regression-techniques/train.csv')\n",
    "test = pd.read_csv('../input/house-prices-advanced-regression-techniques/test.csv') \n",
    "submission = pd.read_csv('../input/house-prices-advanced-regression-techniques/sample_submission.csv')\n"
   ]
  },
  {
   "cell_type": "code",
   "execution_count": 3,
   "id": "16425e4a",
   "metadata": {
    "execution": {
     "iopub.execute_input": "2022-08-23T07:22:12.624721Z",
     "iopub.status.busy": "2022-08-23T07:22:12.623660Z",
     "iopub.status.idle": "2022-08-23T07:22:12.658533Z",
     "shell.execute_reply": "2022-08-23T07:22:12.657405Z"
    },
    "papermill": {
     "duration": 0.047149,
     "end_time": "2022-08-23T07:22:12.660976",
     "exception": false,
     "start_time": "2022-08-23T07:22:12.613827",
     "status": "completed"
    },
    "tags": []
   },
   "outputs": [
    {
     "data": {
      "text/html": [
       "<div>\n",
       "<style scoped>\n",
       "    .dataframe tbody tr th:only-of-type {\n",
       "        vertical-align: middle;\n",
       "    }\n",
       "\n",
       "    .dataframe tbody tr th {\n",
       "        vertical-align: top;\n",
       "    }\n",
       "\n",
       "    .dataframe thead th {\n",
       "        text-align: right;\n",
       "    }\n",
       "</style>\n",
       "<table border=\"1\" class=\"dataframe\">\n",
       "  <thead>\n",
       "    <tr style=\"text-align: right;\">\n",
       "      <th></th>\n",
       "      <th>Id</th>\n",
       "      <th>MSSubClass</th>\n",
       "      <th>MSZoning</th>\n",
       "      <th>LotFrontage</th>\n",
       "      <th>LotArea</th>\n",
       "      <th>Street</th>\n",
       "      <th>Alley</th>\n",
       "      <th>LotShape</th>\n",
       "      <th>LandContour</th>\n",
       "      <th>Utilities</th>\n",
       "      <th>...</th>\n",
       "      <th>PoolArea</th>\n",
       "      <th>PoolQC</th>\n",
       "      <th>Fence</th>\n",
       "      <th>MiscFeature</th>\n",
       "      <th>MiscVal</th>\n",
       "      <th>MoSold</th>\n",
       "      <th>YrSold</th>\n",
       "      <th>SaleType</th>\n",
       "      <th>SaleCondition</th>\n",
       "      <th>SalePrice</th>\n",
       "    </tr>\n",
       "  </thead>\n",
       "  <tbody>\n",
       "    <tr>\n",
       "      <th>0</th>\n",
       "      <td>1</td>\n",
       "      <td>60</td>\n",
       "      <td>RL</td>\n",
       "      <td>65.0</td>\n",
       "      <td>8450</td>\n",
       "      <td>Pave</td>\n",
       "      <td>NaN</td>\n",
       "      <td>Reg</td>\n",
       "      <td>Lvl</td>\n",
       "      <td>AllPub</td>\n",
       "      <td>...</td>\n",
       "      <td>0</td>\n",
       "      <td>NaN</td>\n",
       "      <td>NaN</td>\n",
       "      <td>NaN</td>\n",
       "      <td>0</td>\n",
       "      <td>2</td>\n",
       "      <td>2008</td>\n",
       "      <td>WD</td>\n",
       "      <td>Normal</td>\n",
       "      <td>208500</td>\n",
       "    </tr>\n",
       "    <tr>\n",
       "      <th>1</th>\n",
       "      <td>2</td>\n",
       "      <td>20</td>\n",
       "      <td>RL</td>\n",
       "      <td>80.0</td>\n",
       "      <td>9600</td>\n",
       "      <td>Pave</td>\n",
       "      <td>NaN</td>\n",
       "      <td>Reg</td>\n",
       "      <td>Lvl</td>\n",
       "      <td>AllPub</td>\n",
       "      <td>...</td>\n",
       "      <td>0</td>\n",
       "      <td>NaN</td>\n",
       "      <td>NaN</td>\n",
       "      <td>NaN</td>\n",
       "      <td>0</td>\n",
       "      <td>5</td>\n",
       "      <td>2007</td>\n",
       "      <td>WD</td>\n",
       "      <td>Normal</td>\n",
       "      <td>181500</td>\n",
       "    </tr>\n",
       "    <tr>\n",
       "      <th>2</th>\n",
       "      <td>3</td>\n",
       "      <td>60</td>\n",
       "      <td>RL</td>\n",
       "      <td>68.0</td>\n",
       "      <td>11250</td>\n",
       "      <td>Pave</td>\n",
       "      <td>NaN</td>\n",
       "      <td>IR1</td>\n",
       "      <td>Lvl</td>\n",
       "      <td>AllPub</td>\n",
       "      <td>...</td>\n",
       "      <td>0</td>\n",
       "      <td>NaN</td>\n",
       "      <td>NaN</td>\n",
       "      <td>NaN</td>\n",
       "      <td>0</td>\n",
       "      <td>9</td>\n",
       "      <td>2008</td>\n",
       "      <td>WD</td>\n",
       "      <td>Normal</td>\n",
       "      <td>223500</td>\n",
       "    </tr>\n",
       "    <tr>\n",
       "      <th>3</th>\n",
       "      <td>4</td>\n",
       "      <td>70</td>\n",
       "      <td>RL</td>\n",
       "      <td>60.0</td>\n",
       "      <td>9550</td>\n",
       "      <td>Pave</td>\n",
       "      <td>NaN</td>\n",
       "      <td>IR1</td>\n",
       "      <td>Lvl</td>\n",
       "      <td>AllPub</td>\n",
       "      <td>...</td>\n",
       "      <td>0</td>\n",
       "      <td>NaN</td>\n",
       "      <td>NaN</td>\n",
       "      <td>NaN</td>\n",
       "      <td>0</td>\n",
       "      <td>2</td>\n",
       "      <td>2006</td>\n",
       "      <td>WD</td>\n",
       "      <td>Abnorml</td>\n",
       "      <td>140000</td>\n",
       "    </tr>\n",
       "    <tr>\n",
       "      <th>4</th>\n",
       "      <td>5</td>\n",
       "      <td>60</td>\n",
       "      <td>RL</td>\n",
       "      <td>84.0</td>\n",
       "      <td>14260</td>\n",
       "      <td>Pave</td>\n",
       "      <td>NaN</td>\n",
       "      <td>IR1</td>\n",
       "      <td>Lvl</td>\n",
       "      <td>AllPub</td>\n",
       "      <td>...</td>\n",
       "      <td>0</td>\n",
       "      <td>NaN</td>\n",
       "      <td>NaN</td>\n",
       "      <td>NaN</td>\n",
       "      <td>0</td>\n",
       "      <td>12</td>\n",
       "      <td>2008</td>\n",
       "      <td>WD</td>\n",
       "      <td>Normal</td>\n",
       "      <td>250000</td>\n",
       "    </tr>\n",
       "  </tbody>\n",
       "</table>\n",
       "<p>5 rows × 81 columns</p>\n",
       "</div>"
      ],
      "text/plain": [
       "   Id  MSSubClass MSZoning  LotFrontage  LotArea Street Alley LotShape  \\\n",
       "0   1          60       RL         65.0     8450   Pave   NaN      Reg   \n",
       "1   2          20       RL         80.0     9600   Pave   NaN      Reg   \n",
       "2   3          60       RL         68.0    11250   Pave   NaN      IR1   \n",
       "3   4          70       RL         60.0     9550   Pave   NaN      IR1   \n",
       "4   5          60       RL         84.0    14260   Pave   NaN      IR1   \n",
       "\n",
       "  LandContour Utilities  ... PoolArea PoolQC Fence MiscFeature MiscVal MoSold  \\\n",
       "0         Lvl    AllPub  ...        0    NaN   NaN         NaN       0      2   \n",
       "1         Lvl    AllPub  ...        0    NaN   NaN         NaN       0      5   \n",
       "2         Lvl    AllPub  ...        0    NaN   NaN         NaN       0      9   \n",
       "3         Lvl    AllPub  ...        0    NaN   NaN         NaN       0      2   \n",
       "4         Lvl    AllPub  ...        0    NaN   NaN         NaN       0     12   \n",
       "\n",
       "  YrSold  SaleType  SaleCondition  SalePrice  \n",
       "0   2008        WD         Normal     208500  \n",
       "1   2007        WD         Normal     181500  \n",
       "2   2008        WD         Normal     223500  \n",
       "3   2006        WD        Abnorml     140000  \n",
       "4   2008        WD         Normal     250000  \n",
       "\n",
       "[5 rows x 81 columns]"
      ]
     },
     "execution_count": 3,
     "metadata": {},
     "output_type": "execute_result"
    }
   ],
   "source": [
    "train.head()"
   ]
  },
  {
   "cell_type": "code",
   "execution_count": 4,
   "id": "153039d4",
   "metadata": {
    "execution": {
     "iopub.execute_input": "2022-08-23T07:22:12.681041Z",
     "iopub.status.busy": "2022-08-23T07:22:12.680131Z",
     "iopub.status.idle": "2022-08-23T07:22:12.694784Z",
     "shell.execute_reply": "2022-08-23T07:22:12.693685Z"
    },
    "papermill": {
     "duration": 0.027244,
     "end_time": "2022-08-23T07:22:12.697352",
     "exception": false,
     "start_time": "2022-08-23T07:22:12.670108",
     "status": "completed"
    },
    "tags": []
   },
   "outputs": [],
   "source": [
    "#Dropping Id column\n",
    "\n",
    "train.drop('Id',axis=1, inplace=True)\n",
    "test.drop('Id',axis=1, inplace=True)"
   ]
  },
  {
   "cell_type": "code",
   "execution_count": 5,
   "id": "54a542b6",
   "metadata": {
    "execution": {
     "iopub.execute_input": "2022-08-23T07:22:12.717426Z",
     "iopub.status.busy": "2022-08-23T07:22:12.716978Z",
     "iopub.status.idle": "2022-08-23T07:22:12.724233Z",
     "shell.execute_reply": "2022-08-23T07:22:12.723101Z"
    },
    "papermill": {
     "duration": 0.020072,
     "end_time": "2022-08-23T07:22:12.726585",
     "exception": false,
     "start_time": "2022-08-23T07:22:12.706513",
     "status": "completed"
    },
    "tags": []
   },
   "outputs": [
    {
     "name": "stdout",
     "output_type": "stream",
     "text": [
      "Number of rows in Training dataset:  1460\n",
      "Number of rows in Testing dataset:  1459\n",
      "Number of columns(79 features + 1 Traget) in Train:  80\n",
      "Number of columns(79 features) in Test:  79\n"
     ]
    }
   ],
   "source": [
    "print('Number of rows in Training dataset: ',train.shape[0])\n",
    "print('Number of rows in Testing dataset: ',test.shape[0])\n",
    "print(f'Number of columns({train.shape[1]-1} features + 1 Traget) in Train: ', train.shape[1])\n",
    "print(f'Number of columns({test.shape[1]} features) in Test: ', test.shape[1])"
   ]
  },
  {
   "cell_type": "code",
   "execution_count": 6,
   "id": "0db18724",
   "metadata": {
    "execution": {
     "iopub.execute_input": "2022-08-23T07:22:12.747344Z",
     "iopub.status.busy": "2022-08-23T07:22:12.746253Z",
     "iopub.status.idle": "2022-08-23T07:22:12.753285Z",
     "shell.execute_reply": "2022-08-23T07:22:12.751933Z"
    },
    "papermill": {
     "duration": 0.020264,
     "end_time": "2022-08-23T07:22:12.756097",
     "exception": false,
     "start_time": "2022-08-23T07:22:12.735833",
     "status": "completed"
    },
    "tags": []
   },
   "outputs": [
    {
     "name": "stdout",
     "output_type": "stream",
     "text": [
      "Columns:  Index(['MSSubClass', 'MSZoning', 'LotFrontage', 'LotArea', 'Street', 'Alley',\n",
      "       'LotShape', 'LandContour', 'Utilities', 'LotConfig', 'LandSlope',\n",
      "       'Neighborhood', 'Condition1', 'Condition2', 'BldgType', 'HouseStyle',\n",
      "       'OverallQual', 'OverallCond', 'YearBuilt', 'YearRemodAdd', 'RoofStyle',\n",
      "       'RoofMatl', 'Exterior1st', 'Exterior2nd', 'MasVnrType', 'MasVnrArea',\n",
      "       'ExterQual', 'ExterCond', 'Foundation', 'BsmtQual', 'BsmtCond',\n",
      "       'BsmtExposure', 'BsmtFinType1', 'BsmtFinSF1', 'BsmtFinType2',\n",
      "       'BsmtFinSF2', 'BsmtUnfSF', 'TotalBsmtSF', 'Heating', 'HeatingQC',\n",
      "       'CentralAir', 'Electrical', '1stFlrSF', '2ndFlrSF', 'LowQualFinSF',\n",
      "       'GrLivArea', 'BsmtFullBath', 'BsmtHalfBath', 'FullBath', 'HalfBath',\n",
      "       'BedroomAbvGr', 'KitchenAbvGr', 'KitchenQual', 'TotRmsAbvGrd',\n",
      "       'Functional', 'Fireplaces', 'FireplaceQu', 'GarageType', 'GarageYrBlt',\n",
      "       'GarageFinish', 'GarageCars', 'GarageArea', 'GarageQual', 'GarageCond',\n",
      "       'PavedDrive', 'WoodDeckSF', 'OpenPorchSF', 'EnclosedPorch', '3SsnPorch',\n",
      "       'ScreenPorch', 'PoolArea', 'PoolQC', 'Fence', 'MiscFeature', 'MiscVal',\n",
      "       'MoSold', 'YrSold', 'SaleType', 'SaleCondition', 'SalePrice'],\n",
      "      dtype='object')\n"
     ]
    }
   ],
   "source": [
    "print('Columns: ', train.columns)"
   ]
  },
  {
   "cell_type": "code",
   "execution_count": 7,
   "id": "e3c1a6c6",
   "metadata": {
    "execution": {
     "iopub.execute_input": "2022-08-23T07:22:12.776448Z",
     "iopub.status.busy": "2022-08-23T07:22:12.776047Z",
     "iopub.status.idle": "2022-08-23T07:22:12.803210Z",
     "shell.execute_reply": "2022-08-23T07:22:12.801830Z"
    },
    "papermill": {
     "duration": 0.040509,
     "end_time": "2022-08-23T07:22:12.805953",
     "exception": false,
     "start_time": "2022-08-23T07:22:12.765444",
     "status": "completed"
    },
    "tags": []
   },
   "outputs": [
    {
     "name": "stdout",
     "output_type": "stream",
     "text": [
      "<class 'pandas.core.frame.DataFrame'>\n",
      "RangeIndex: 1460 entries, 0 to 1459\n",
      "Data columns (total 80 columns):\n",
      " #   Column         Non-Null Count  Dtype  \n",
      "---  ------         --------------  -----  \n",
      " 0   MSSubClass     1460 non-null   int64  \n",
      " 1   MSZoning       1460 non-null   object \n",
      " 2   LotFrontage    1201 non-null   float64\n",
      " 3   LotArea        1460 non-null   int64  \n",
      " 4   Street         1460 non-null   object \n",
      " 5   Alley          91 non-null     object \n",
      " 6   LotShape       1460 non-null   object \n",
      " 7   LandContour    1460 non-null   object \n",
      " 8   Utilities      1460 non-null   object \n",
      " 9   LotConfig      1460 non-null   object \n",
      " 10  LandSlope      1460 non-null   object \n",
      " 11  Neighborhood   1460 non-null   object \n",
      " 12  Condition1     1460 non-null   object \n",
      " 13  Condition2     1460 non-null   object \n",
      " 14  BldgType       1460 non-null   object \n",
      " 15  HouseStyle     1460 non-null   object \n",
      " 16  OverallQual    1460 non-null   int64  \n",
      " 17  OverallCond    1460 non-null   int64  \n",
      " 18  YearBuilt      1460 non-null   int64  \n",
      " 19  YearRemodAdd   1460 non-null   int64  \n",
      " 20  RoofStyle      1460 non-null   object \n",
      " 21  RoofMatl       1460 non-null   object \n",
      " 22  Exterior1st    1460 non-null   object \n",
      " 23  Exterior2nd    1460 non-null   object \n",
      " 24  MasVnrType     1452 non-null   object \n",
      " 25  MasVnrArea     1452 non-null   float64\n",
      " 26  ExterQual      1460 non-null   object \n",
      " 27  ExterCond      1460 non-null   object \n",
      " 28  Foundation     1460 non-null   object \n",
      " 29  BsmtQual       1423 non-null   object \n",
      " 30  BsmtCond       1423 non-null   object \n",
      " 31  BsmtExposure   1422 non-null   object \n",
      " 32  BsmtFinType1   1423 non-null   object \n",
      " 33  BsmtFinSF1     1460 non-null   int64  \n",
      " 34  BsmtFinType2   1422 non-null   object \n",
      " 35  BsmtFinSF2     1460 non-null   int64  \n",
      " 36  BsmtUnfSF      1460 non-null   int64  \n",
      " 37  TotalBsmtSF    1460 non-null   int64  \n",
      " 38  Heating        1460 non-null   object \n",
      " 39  HeatingQC      1460 non-null   object \n",
      " 40  CentralAir     1460 non-null   object \n",
      " 41  Electrical     1459 non-null   object \n",
      " 42  1stFlrSF       1460 non-null   int64  \n",
      " 43  2ndFlrSF       1460 non-null   int64  \n",
      " 44  LowQualFinSF   1460 non-null   int64  \n",
      " 45  GrLivArea      1460 non-null   int64  \n",
      " 46  BsmtFullBath   1460 non-null   int64  \n",
      " 47  BsmtHalfBath   1460 non-null   int64  \n",
      " 48  FullBath       1460 non-null   int64  \n",
      " 49  HalfBath       1460 non-null   int64  \n",
      " 50  BedroomAbvGr   1460 non-null   int64  \n",
      " 51  KitchenAbvGr   1460 non-null   int64  \n",
      " 52  KitchenQual    1460 non-null   object \n",
      " 53  TotRmsAbvGrd   1460 non-null   int64  \n",
      " 54  Functional     1460 non-null   object \n",
      " 55  Fireplaces     1460 non-null   int64  \n",
      " 56  FireplaceQu    770 non-null    object \n",
      " 57  GarageType     1379 non-null   object \n",
      " 58  GarageYrBlt    1379 non-null   float64\n",
      " 59  GarageFinish   1379 non-null   object \n",
      " 60  GarageCars     1460 non-null   int64  \n",
      " 61  GarageArea     1460 non-null   int64  \n",
      " 62  GarageQual     1379 non-null   object \n",
      " 63  GarageCond     1379 non-null   object \n",
      " 64  PavedDrive     1460 non-null   object \n",
      " 65  WoodDeckSF     1460 non-null   int64  \n",
      " 66  OpenPorchSF    1460 non-null   int64  \n",
      " 67  EnclosedPorch  1460 non-null   int64  \n",
      " 68  3SsnPorch      1460 non-null   int64  \n",
      " 69  ScreenPorch    1460 non-null   int64  \n",
      " 70  PoolArea       1460 non-null   int64  \n",
      " 71  PoolQC         7 non-null      object \n",
      " 72  Fence          281 non-null    object \n",
      " 73  MiscFeature    54 non-null     object \n",
      " 74  MiscVal        1460 non-null   int64  \n",
      " 75  MoSold         1460 non-null   int64  \n",
      " 76  YrSold         1460 non-null   int64  \n",
      " 77  SaleType       1460 non-null   object \n",
      " 78  SaleCondition  1460 non-null   object \n",
      " 79  SalePrice      1460 non-null   int64  \n",
      "dtypes: float64(3), int64(34), object(43)\n",
      "memory usage: 912.6+ KB\n"
     ]
    }
   ],
   "source": [
    "train.info()"
   ]
  },
  {
   "cell_type": "code",
   "execution_count": 8,
   "id": "d635aeb6",
   "metadata": {
    "execution": {
     "iopub.execute_input": "2022-08-23T07:22:12.826563Z",
     "iopub.status.busy": "2022-08-23T07:22:12.826189Z",
     "iopub.status.idle": "2022-08-23T07:22:12.936150Z",
     "shell.execute_reply": "2022-08-23T07:22:12.934721Z"
    },
    "papermill": {
     "duration": 0.123498,
     "end_time": "2022-08-23T07:22:12.939002",
     "exception": false,
     "start_time": "2022-08-23T07:22:12.815504",
     "status": "completed"
    },
    "tags": []
   },
   "outputs": [
    {
     "data": {
      "text/html": [
       "<div>\n",
       "<style scoped>\n",
       "    .dataframe tbody tr th:only-of-type {\n",
       "        vertical-align: middle;\n",
       "    }\n",
       "\n",
       "    .dataframe tbody tr th {\n",
       "        vertical-align: top;\n",
       "    }\n",
       "\n",
       "    .dataframe thead th {\n",
       "        text-align: right;\n",
       "    }\n",
       "</style>\n",
       "<table border=\"1\" class=\"dataframe\">\n",
       "  <thead>\n",
       "    <tr style=\"text-align: right;\">\n",
       "      <th></th>\n",
       "      <th>count</th>\n",
       "      <th>mean</th>\n",
       "      <th>std</th>\n",
       "      <th>min</th>\n",
       "      <th>25%</th>\n",
       "      <th>50%</th>\n",
       "      <th>75%</th>\n",
       "      <th>max</th>\n",
       "    </tr>\n",
       "  </thead>\n",
       "  <tbody>\n",
       "    <tr>\n",
       "      <th>MSSubClass</th>\n",
       "      <td>1460.0</td>\n",
       "      <td>56.897260</td>\n",
       "      <td>42.300571</td>\n",
       "      <td>20.0</td>\n",
       "      <td>20.00</td>\n",
       "      <td>50.0</td>\n",
       "      <td>70.00</td>\n",
       "      <td>190.0</td>\n",
       "    </tr>\n",
       "    <tr>\n",
       "      <th>LotFrontage</th>\n",
       "      <td>1201.0</td>\n",
       "      <td>70.049958</td>\n",
       "      <td>24.284752</td>\n",
       "      <td>21.0</td>\n",
       "      <td>59.00</td>\n",
       "      <td>69.0</td>\n",
       "      <td>80.00</td>\n",
       "      <td>313.0</td>\n",
       "    </tr>\n",
       "    <tr>\n",
       "      <th>LotArea</th>\n",
       "      <td>1460.0</td>\n",
       "      <td>10516.828082</td>\n",
       "      <td>9981.264932</td>\n",
       "      <td>1300.0</td>\n",
       "      <td>7553.50</td>\n",
       "      <td>9478.5</td>\n",
       "      <td>11601.50</td>\n",
       "      <td>215245.0</td>\n",
       "    </tr>\n",
       "    <tr>\n",
       "      <th>OverallQual</th>\n",
       "      <td>1460.0</td>\n",
       "      <td>6.099315</td>\n",
       "      <td>1.382997</td>\n",
       "      <td>1.0</td>\n",
       "      <td>5.00</td>\n",
       "      <td>6.0</td>\n",
       "      <td>7.00</td>\n",
       "      <td>10.0</td>\n",
       "    </tr>\n",
       "    <tr>\n",
       "      <th>OverallCond</th>\n",
       "      <td>1460.0</td>\n",
       "      <td>5.575342</td>\n",
       "      <td>1.112799</td>\n",
       "      <td>1.0</td>\n",
       "      <td>5.00</td>\n",
       "      <td>5.0</td>\n",
       "      <td>6.00</td>\n",
       "      <td>9.0</td>\n",
       "    </tr>\n",
       "    <tr>\n",
       "      <th>YearBuilt</th>\n",
       "      <td>1460.0</td>\n",
       "      <td>1971.267808</td>\n",
       "      <td>30.202904</td>\n",
       "      <td>1872.0</td>\n",
       "      <td>1954.00</td>\n",
       "      <td>1973.0</td>\n",
       "      <td>2000.00</td>\n",
       "      <td>2010.0</td>\n",
       "    </tr>\n",
       "    <tr>\n",
       "      <th>YearRemodAdd</th>\n",
       "      <td>1460.0</td>\n",
       "      <td>1984.865753</td>\n",
       "      <td>20.645407</td>\n",
       "      <td>1950.0</td>\n",
       "      <td>1967.00</td>\n",
       "      <td>1994.0</td>\n",
       "      <td>2004.00</td>\n",
       "      <td>2010.0</td>\n",
       "    </tr>\n",
       "    <tr>\n",
       "      <th>MasVnrArea</th>\n",
       "      <td>1452.0</td>\n",
       "      <td>103.685262</td>\n",
       "      <td>181.066207</td>\n",
       "      <td>0.0</td>\n",
       "      <td>0.00</td>\n",
       "      <td>0.0</td>\n",
       "      <td>166.00</td>\n",
       "      <td>1600.0</td>\n",
       "    </tr>\n",
       "    <tr>\n",
       "      <th>BsmtFinSF1</th>\n",
       "      <td>1460.0</td>\n",
       "      <td>443.639726</td>\n",
       "      <td>456.098091</td>\n",
       "      <td>0.0</td>\n",
       "      <td>0.00</td>\n",
       "      <td>383.5</td>\n",
       "      <td>712.25</td>\n",
       "      <td>5644.0</td>\n",
       "    </tr>\n",
       "    <tr>\n",
       "      <th>BsmtFinSF2</th>\n",
       "      <td>1460.0</td>\n",
       "      <td>46.549315</td>\n",
       "      <td>161.319273</td>\n",
       "      <td>0.0</td>\n",
       "      <td>0.00</td>\n",
       "      <td>0.0</td>\n",
       "      <td>0.00</td>\n",
       "      <td>1474.0</td>\n",
       "    </tr>\n",
       "    <tr>\n",
       "      <th>BsmtUnfSF</th>\n",
       "      <td>1460.0</td>\n",
       "      <td>567.240411</td>\n",
       "      <td>441.866955</td>\n",
       "      <td>0.0</td>\n",
       "      <td>223.00</td>\n",
       "      <td>477.5</td>\n",
       "      <td>808.00</td>\n",
       "      <td>2336.0</td>\n",
       "    </tr>\n",
       "    <tr>\n",
       "      <th>TotalBsmtSF</th>\n",
       "      <td>1460.0</td>\n",
       "      <td>1057.429452</td>\n",
       "      <td>438.705324</td>\n",
       "      <td>0.0</td>\n",
       "      <td>795.75</td>\n",
       "      <td>991.5</td>\n",
       "      <td>1298.25</td>\n",
       "      <td>6110.0</td>\n",
       "    </tr>\n",
       "    <tr>\n",
       "      <th>1stFlrSF</th>\n",
       "      <td>1460.0</td>\n",
       "      <td>1162.626712</td>\n",
       "      <td>386.587738</td>\n",
       "      <td>334.0</td>\n",
       "      <td>882.00</td>\n",
       "      <td>1087.0</td>\n",
       "      <td>1391.25</td>\n",
       "      <td>4692.0</td>\n",
       "    </tr>\n",
       "    <tr>\n",
       "      <th>2ndFlrSF</th>\n",
       "      <td>1460.0</td>\n",
       "      <td>346.992466</td>\n",
       "      <td>436.528436</td>\n",
       "      <td>0.0</td>\n",
       "      <td>0.00</td>\n",
       "      <td>0.0</td>\n",
       "      <td>728.00</td>\n",
       "      <td>2065.0</td>\n",
       "    </tr>\n",
       "    <tr>\n",
       "      <th>LowQualFinSF</th>\n",
       "      <td>1460.0</td>\n",
       "      <td>5.844521</td>\n",
       "      <td>48.623081</td>\n",
       "      <td>0.0</td>\n",
       "      <td>0.00</td>\n",
       "      <td>0.0</td>\n",
       "      <td>0.00</td>\n",
       "      <td>572.0</td>\n",
       "    </tr>\n",
       "    <tr>\n",
       "      <th>GrLivArea</th>\n",
       "      <td>1460.0</td>\n",
       "      <td>1515.463699</td>\n",
       "      <td>525.480383</td>\n",
       "      <td>334.0</td>\n",
       "      <td>1129.50</td>\n",
       "      <td>1464.0</td>\n",
       "      <td>1776.75</td>\n",
       "      <td>5642.0</td>\n",
       "    </tr>\n",
       "    <tr>\n",
       "      <th>BsmtFullBath</th>\n",
       "      <td>1460.0</td>\n",
       "      <td>0.425342</td>\n",
       "      <td>0.518911</td>\n",
       "      <td>0.0</td>\n",
       "      <td>0.00</td>\n",
       "      <td>0.0</td>\n",
       "      <td>1.00</td>\n",
       "      <td>3.0</td>\n",
       "    </tr>\n",
       "    <tr>\n",
       "      <th>BsmtHalfBath</th>\n",
       "      <td>1460.0</td>\n",
       "      <td>0.057534</td>\n",
       "      <td>0.238753</td>\n",
       "      <td>0.0</td>\n",
       "      <td>0.00</td>\n",
       "      <td>0.0</td>\n",
       "      <td>0.00</td>\n",
       "      <td>2.0</td>\n",
       "    </tr>\n",
       "    <tr>\n",
       "      <th>FullBath</th>\n",
       "      <td>1460.0</td>\n",
       "      <td>1.565068</td>\n",
       "      <td>0.550916</td>\n",
       "      <td>0.0</td>\n",
       "      <td>1.00</td>\n",
       "      <td>2.0</td>\n",
       "      <td>2.00</td>\n",
       "      <td>3.0</td>\n",
       "    </tr>\n",
       "    <tr>\n",
       "      <th>HalfBath</th>\n",
       "      <td>1460.0</td>\n",
       "      <td>0.382877</td>\n",
       "      <td>0.502885</td>\n",
       "      <td>0.0</td>\n",
       "      <td>0.00</td>\n",
       "      <td>0.0</td>\n",
       "      <td>1.00</td>\n",
       "      <td>2.0</td>\n",
       "    </tr>\n",
       "    <tr>\n",
       "      <th>BedroomAbvGr</th>\n",
       "      <td>1460.0</td>\n",
       "      <td>2.866438</td>\n",
       "      <td>0.815778</td>\n",
       "      <td>0.0</td>\n",
       "      <td>2.00</td>\n",
       "      <td>3.0</td>\n",
       "      <td>3.00</td>\n",
       "      <td>8.0</td>\n",
       "    </tr>\n",
       "    <tr>\n",
       "      <th>KitchenAbvGr</th>\n",
       "      <td>1460.0</td>\n",
       "      <td>1.046575</td>\n",
       "      <td>0.220338</td>\n",
       "      <td>0.0</td>\n",
       "      <td>1.00</td>\n",
       "      <td>1.0</td>\n",
       "      <td>1.00</td>\n",
       "      <td>3.0</td>\n",
       "    </tr>\n",
       "    <tr>\n",
       "      <th>TotRmsAbvGrd</th>\n",
       "      <td>1460.0</td>\n",
       "      <td>6.517808</td>\n",
       "      <td>1.625393</td>\n",
       "      <td>2.0</td>\n",
       "      <td>5.00</td>\n",
       "      <td>6.0</td>\n",
       "      <td>7.00</td>\n",
       "      <td>14.0</td>\n",
       "    </tr>\n",
       "    <tr>\n",
       "      <th>Fireplaces</th>\n",
       "      <td>1460.0</td>\n",
       "      <td>0.613014</td>\n",
       "      <td>0.644666</td>\n",
       "      <td>0.0</td>\n",
       "      <td>0.00</td>\n",
       "      <td>1.0</td>\n",
       "      <td>1.00</td>\n",
       "      <td>3.0</td>\n",
       "    </tr>\n",
       "    <tr>\n",
       "      <th>GarageYrBlt</th>\n",
       "      <td>1379.0</td>\n",
       "      <td>1978.506164</td>\n",
       "      <td>24.689725</td>\n",
       "      <td>1900.0</td>\n",
       "      <td>1961.00</td>\n",
       "      <td>1980.0</td>\n",
       "      <td>2002.00</td>\n",
       "      <td>2010.0</td>\n",
       "    </tr>\n",
       "    <tr>\n",
       "      <th>GarageCars</th>\n",
       "      <td>1460.0</td>\n",
       "      <td>1.767123</td>\n",
       "      <td>0.747315</td>\n",
       "      <td>0.0</td>\n",
       "      <td>1.00</td>\n",
       "      <td>2.0</td>\n",
       "      <td>2.00</td>\n",
       "      <td>4.0</td>\n",
       "    </tr>\n",
       "    <tr>\n",
       "      <th>GarageArea</th>\n",
       "      <td>1460.0</td>\n",
       "      <td>472.980137</td>\n",
       "      <td>213.804841</td>\n",
       "      <td>0.0</td>\n",
       "      <td>334.50</td>\n",
       "      <td>480.0</td>\n",
       "      <td>576.00</td>\n",
       "      <td>1418.0</td>\n",
       "    </tr>\n",
       "    <tr>\n",
       "      <th>WoodDeckSF</th>\n",
       "      <td>1460.0</td>\n",
       "      <td>94.244521</td>\n",
       "      <td>125.338794</td>\n",
       "      <td>0.0</td>\n",
       "      <td>0.00</td>\n",
       "      <td>0.0</td>\n",
       "      <td>168.00</td>\n",
       "      <td>857.0</td>\n",
       "    </tr>\n",
       "    <tr>\n",
       "      <th>OpenPorchSF</th>\n",
       "      <td>1460.0</td>\n",
       "      <td>46.660274</td>\n",
       "      <td>66.256028</td>\n",
       "      <td>0.0</td>\n",
       "      <td>0.00</td>\n",
       "      <td>25.0</td>\n",
       "      <td>68.00</td>\n",
       "      <td>547.0</td>\n",
       "    </tr>\n",
       "    <tr>\n",
       "      <th>EnclosedPorch</th>\n",
       "      <td>1460.0</td>\n",
       "      <td>21.954110</td>\n",
       "      <td>61.119149</td>\n",
       "      <td>0.0</td>\n",
       "      <td>0.00</td>\n",
       "      <td>0.0</td>\n",
       "      <td>0.00</td>\n",
       "      <td>552.0</td>\n",
       "    </tr>\n",
       "    <tr>\n",
       "      <th>3SsnPorch</th>\n",
       "      <td>1460.0</td>\n",
       "      <td>3.409589</td>\n",
       "      <td>29.317331</td>\n",
       "      <td>0.0</td>\n",
       "      <td>0.00</td>\n",
       "      <td>0.0</td>\n",
       "      <td>0.00</td>\n",
       "      <td>508.0</td>\n",
       "    </tr>\n",
       "    <tr>\n",
       "      <th>ScreenPorch</th>\n",
       "      <td>1460.0</td>\n",
       "      <td>15.060959</td>\n",
       "      <td>55.757415</td>\n",
       "      <td>0.0</td>\n",
       "      <td>0.00</td>\n",
       "      <td>0.0</td>\n",
       "      <td>0.00</td>\n",
       "      <td>480.0</td>\n",
       "    </tr>\n",
       "    <tr>\n",
       "      <th>PoolArea</th>\n",
       "      <td>1460.0</td>\n",
       "      <td>2.758904</td>\n",
       "      <td>40.177307</td>\n",
       "      <td>0.0</td>\n",
       "      <td>0.00</td>\n",
       "      <td>0.0</td>\n",
       "      <td>0.00</td>\n",
       "      <td>738.0</td>\n",
       "    </tr>\n",
       "    <tr>\n",
       "      <th>MiscVal</th>\n",
       "      <td>1460.0</td>\n",
       "      <td>43.489041</td>\n",
       "      <td>496.123024</td>\n",
       "      <td>0.0</td>\n",
       "      <td>0.00</td>\n",
       "      <td>0.0</td>\n",
       "      <td>0.00</td>\n",
       "      <td>15500.0</td>\n",
       "    </tr>\n",
       "    <tr>\n",
       "      <th>MoSold</th>\n",
       "      <td>1460.0</td>\n",
       "      <td>6.321918</td>\n",
       "      <td>2.703626</td>\n",
       "      <td>1.0</td>\n",
       "      <td>5.00</td>\n",
       "      <td>6.0</td>\n",
       "      <td>8.00</td>\n",
       "      <td>12.0</td>\n",
       "    </tr>\n",
       "    <tr>\n",
       "      <th>YrSold</th>\n",
       "      <td>1460.0</td>\n",
       "      <td>2007.815753</td>\n",
       "      <td>1.328095</td>\n",
       "      <td>2006.0</td>\n",
       "      <td>2007.00</td>\n",
       "      <td>2008.0</td>\n",
       "      <td>2009.00</td>\n",
       "      <td>2010.0</td>\n",
       "    </tr>\n",
       "    <tr>\n",
       "      <th>SalePrice</th>\n",
       "      <td>1460.0</td>\n",
       "      <td>180921.195890</td>\n",
       "      <td>79442.502883</td>\n",
       "      <td>34900.0</td>\n",
       "      <td>129975.00</td>\n",
       "      <td>163000.0</td>\n",
       "      <td>214000.00</td>\n",
       "      <td>755000.0</td>\n",
       "    </tr>\n",
       "  </tbody>\n",
       "</table>\n",
       "</div>"
      ],
      "text/plain": [
       "                count           mean           std      min        25%  \\\n",
       "MSSubClass     1460.0      56.897260     42.300571     20.0      20.00   \n",
       "LotFrontage    1201.0      70.049958     24.284752     21.0      59.00   \n",
       "LotArea        1460.0   10516.828082   9981.264932   1300.0    7553.50   \n",
       "OverallQual    1460.0       6.099315      1.382997      1.0       5.00   \n",
       "OverallCond    1460.0       5.575342      1.112799      1.0       5.00   \n",
       "YearBuilt      1460.0    1971.267808     30.202904   1872.0    1954.00   \n",
       "YearRemodAdd   1460.0    1984.865753     20.645407   1950.0    1967.00   \n",
       "MasVnrArea     1452.0     103.685262    181.066207      0.0       0.00   \n",
       "BsmtFinSF1     1460.0     443.639726    456.098091      0.0       0.00   \n",
       "BsmtFinSF2     1460.0      46.549315    161.319273      0.0       0.00   \n",
       "BsmtUnfSF      1460.0     567.240411    441.866955      0.0     223.00   \n",
       "TotalBsmtSF    1460.0    1057.429452    438.705324      0.0     795.75   \n",
       "1stFlrSF       1460.0    1162.626712    386.587738    334.0     882.00   \n",
       "2ndFlrSF       1460.0     346.992466    436.528436      0.0       0.00   \n",
       "LowQualFinSF   1460.0       5.844521     48.623081      0.0       0.00   \n",
       "GrLivArea      1460.0    1515.463699    525.480383    334.0    1129.50   \n",
       "BsmtFullBath   1460.0       0.425342      0.518911      0.0       0.00   \n",
       "BsmtHalfBath   1460.0       0.057534      0.238753      0.0       0.00   \n",
       "FullBath       1460.0       1.565068      0.550916      0.0       1.00   \n",
       "HalfBath       1460.0       0.382877      0.502885      0.0       0.00   \n",
       "BedroomAbvGr   1460.0       2.866438      0.815778      0.0       2.00   \n",
       "KitchenAbvGr   1460.0       1.046575      0.220338      0.0       1.00   \n",
       "TotRmsAbvGrd   1460.0       6.517808      1.625393      2.0       5.00   \n",
       "Fireplaces     1460.0       0.613014      0.644666      0.0       0.00   \n",
       "GarageYrBlt    1379.0    1978.506164     24.689725   1900.0    1961.00   \n",
       "GarageCars     1460.0       1.767123      0.747315      0.0       1.00   \n",
       "GarageArea     1460.0     472.980137    213.804841      0.0     334.50   \n",
       "WoodDeckSF     1460.0      94.244521    125.338794      0.0       0.00   \n",
       "OpenPorchSF    1460.0      46.660274     66.256028      0.0       0.00   \n",
       "EnclosedPorch  1460.0      21.954110     61.119149      0.0       0.00   \n",
       "3SsnPorch      1460.0       3.409589     29.317331      0.0       0.00   \n",
       "ScreenPorch    1460.0      15.060959     55.757415      0.0       0.00   \n",
       "PoolArea       1460.0       2.758904     40.177307      0.0       0.00   \n",
       "MiscVal        1460.0      43.489041    496.123024      0.0       0.00   \n",
       "MoSold         1460.0       6.321918      2.703626      1.0       5.00   \n",
       "YrSold         1460.0    2007.815753      1.328095   2006.0    2007.00   \n",
       "SalePrice      1460.0  180921.195890  79442.502883  34900.0  129975.00   \n",
       "\n",
       "                    50%        75%       max  \n",
       "MSSubClass         50.0      70.00     190.0  \n",
       "LotFrontage        69.0      80.00     313.0  \n",
       "LotArea          9478.5   11601.50  215245.0  \n",
       "OverallQual         6.0       7.00      10.0  \n",
       "OverallCond         5.0       6.00       9.0  \n",
       "YearBuilt        1973.0    2000.00    2010.0  \n",
       "YearRemodAdd     1994.0    2004.00    2010.0  \n",
       "MasVnrArea          0.0     166.00    1600.0  \n",
       "BsmtFinSF1        383.5     712.25    5644.0  \n",
       "BsmtFinSF2          0.0       0.00    1474.0  \n",
       "BsmtUnfSF         477.5     808.00    2336.0  \n",
       "TotalBsmtSF       991.5    1298.25    6110.0  \n",
       "1stFlrSF         1087.0    1391.25    4692.0  \n",
       "2ndFlrSF            0.0     728.00    2065.0  \n",
       "LowQualFinSF        0.0       0.00     572.0  \n",
       "GrLivArea        1464.0    1776.75    5642.0  \n",
       "BsmtFullBath        0.0       1.00       3.0  \n",
       "BsmtHalfBath        0.0       0.00       2.0  \n",
       "FullBath            2.0       2.00       3.0  \n",
       "HalfBath            0.0       1.00       2.0  \n",
       "BedroomAbvGr        3.0       3.00       8.0  \n",
       "KitchenAbvGr        1.0       1.00       3.0  \n",
       "TotRmsAbvGrd        6.0       7.00      14.0  \n",
       "Fireplaces          1.0       1.00       3.0  \n",
       "GarageYrBlt      1980.0    2002.00    2010.0  \n",
       "GarageCars          2.0       2.00       4.0  \n",
       "GarageArea        480.0     576.00    1418.0  \n",
       "WoodDeckSF          0.0     168.00     857.0  \n",
       "OpenPorchSF        25.0      68.00     547.0  \n",
       "EnclosedPorch       0.0       0.00     552.0  \n",
       "3SsnPorch           0.0       0.00     508.0  \n",
       "ScreenPorch         0.0       0.00     480.0  \n",
       "PoolArea            0.0       0.00     738.0  \n",
       "MiscVal             0.0       0.00   15500.0  \n",
       "MoSold              6.0       8.00      12.0  \n",
       "YrSold           2008.0    2009.00    2010.0  \n",
       "SalePrice      163000.0  214000.00  755000.0  "
      ]
     },
     "execution_count": 8,
     "metadata": {},
     "output_type": "execute_result"
    }
   ],
   "source": [
    "train.describe().T"
   ]
  },
  {
   "cell_type": "code",
   "execution_count": 9,
   "id": "ea7ede44",
   "metadata": {
    "execution": {
     "iopub.execute_input": "2022-08-23T07:22:12.961705Z",
     "iopub.status.busy": "2022-08-23T07:22:12.961271Z",
     "iopub.status.idle": "2022-08-23T07:22:12.969507Z",
     "shell.execute_reply": "2022-08-23T07:22:12.968615Z"
    },
    "papermill": {
     "duration": 0.021993,
     "end_time": "2022-08-23T07:22:12.971751",
     "exception": false,
     "start_time": "2022-08-23T07:22:12.949758",
     "status": "completed"
    },
    "tags": []
   },
   "outputs": [],
   "source": [
    "train_features = train.drop('SalePrice',axis=1)\n",
    "train_labels = train['SalePrice']"
   ]
  },
  {
   "cell_type": "code",
   "execution_count": 10,
   "id": "04003871",
   "metadata": {
    "execution": {
     "iopub.execute_input": "2022-08-23T07:22:12.994303Z",
     "iopub.status.busy": "2022-08-23T07:22:12.993516Z",
     "iopub.status.idle": "2022-08-23T07:22:13.000589Z",
     "shell.execute_reply": "2022-08-23T07:22:12.999674Z"
    },
    "papermill": {
     "duration": 0.02059,
     "end_time": "2022-08-23T07:22:13.002843",
     "exception": false,
     "start_time": "2022-08-23T07:22:12.982253",
     "status": "completed"
    },
    "tags": []
   },
   "outputs": [
    {
     "data": {
      "text/plain": [
       "((1460, 79), (1460,))"
      ]
     },
     "execution_count": 10,
     "metadata": {},
     "output_type": "execute_result"
    }
   ],
   "source": [
    "train_features.shape,train_labels.shape"
   ]
  },
  {
   "cell_type": "markdown",
   "id": "4f437240",
   "metadata": {
    "papermill": {
     "duration": 0.009653,
     "end_time": "2022-08-23T07:22:13.022490",
     "exception": false,
     "start_time": "2022-08-23T07:22:13.012837",
     "status": "completed"
    },
    "tags": []
   },
   "source": [
    "# Looking into Null Values(in both Numericals and Categotical)"
   ]
  },
  {
   "cell_type": "code",
   "execution_count": 11,
   "id": "b4e81a38",
   "metadata": {
    "execution": {
     "iopub.execute_input": "2022-08-23T07:22:13.044766Z",
     "iopub.status.busy": "2022-08-23T07:22:13.043995Z",
     "iopub.status.idle": "2022-08-23T07:22:13.049412Z",
     "shell.execute_reply": "2022-08-23T07:22:13.048521Z"
    },
    "papermill": {
     "duration": 0.019446,
     "end_time": "2022-08-23T07:22:13.052001",
     "exception": false,
     "start_time": "2022-08-23T07:22:13.032555",
     "status": "completed"
    },
    "tags": []
   },
   "outputs": [],
   "source": [
    "numeric = train_features._get_numeric_data().columns\n"
   ]
  },
  {
   "cell_type": "code",
   "execution_count": 12,
   "id": "1130631c",
   "metadata": {
    "execution": {
     "iopub.execute_input": "2022-08-23T07:22:13.075380Z",
     "iopub.status.busy": "2022-08-23T07:22:13.074573Z",
     "iopub.status.idle": "2022-08-23T07:22:13.080118Z",
     "shell.execute_reply": "2022-08-23T07:22:13.079126Z"
    },
    "papermill": {
     "duration": 0.019597,
     "end_time": "2022-08-23T07:22:13.082404",
     "exception": false,
     "start_time": "2022-08-23T07:22:13.062807",
     "status": "completed"
    },
    "tags": []
   },
   "outputs": [],
   "source": [
    "categoric = [i for i in train_features.columns if i not in numeric]"
   ]
  },
  {
   "cell_type": "code",
   "execution_count": 13,
   "id": "2c455b62",
   "metadata": {
    "execution": {
     "iopub.execute_input": "2022-08-23T07:22:13.104646Z",
     "iopub.status.busy": "2022-08-23T07:22:13.103862Z",
     "iopub.status.idle": "2022-08-23T07:22:13.678053Z",
     "shell.execute_reply": "2022-08-23T07:22:13.676778Z"
    },
    "papermill": {
     "duration": 0.588771,
     "end_time": "2022-08-23T07:22:13.681252",
     "exception": false,
     "start_time": "2022-08-23T07:22:13.092481",
     "status": "completed"
    },
    "tags": []
   },
   "outputs": [
    {
     "name": "stdout",
     "output_type": "stream",
     "text": [
      "LotFrontage 259\n",
      "Alley 1369\n",
      "MasVnrType 8\n",
      "MasVnrArea 8\n",
      "BsmtQual 37\n",
      "BsmtCond 37\n",
      "BsmtExposure 38\n",
      "BsmtFinType1 37\n",
      "BsmtFinType2 38\n",
      "Electrical 1\n",
      "FireplaceQu 690\n",
      "GarageType 81\n",
      "GarageYrBlt 81\n",
      "GarageFinish 81\n",
      "GarageQual 81\n",
      "GarageCond 81\n",
      "PoolQC 1453\n",
      "Fence 1179\n",
      "MiscFeature 1406\n"
     ]
    }
   ],
   "source": [
    "train_features.isnull().sum().index\n",
    "null_columns=[]\n",
    "for i in range(len(train_features.isnull().sum().index)):\n",
    "    if train_features.isnull().sum()[i] !=0:\n",
    "        print(train_features.isnull().sum().index[i],train_features.isnull().sum()[i])\n",
    "        null_columns.append(train_features.isnull().sum().index[i])\n",
    "    "
   ]
  },
  {
   "cell_type": "code",
   "execution_count": 14,
   "id": "15c0e003",
   "metadata": {
    "execution": {
     "iopub.execute_input": "2022-08-23T07:22:13.704431Z",
     "iopub.status.busy": "2022-08-23T07:22:13.704050Z",
     "iopub.status.idle": "2022-08-23T07:22:13.710662Z",
     "shell.execute_reply": "2022-08-23T07:22:13.709656Z"
    },
    "papermill": {
     "duration": 0.02096,
     "end_time": "2022-08-23T07:22:13.713061",
     "exception": false,
     "start_time": "2022-08-23T07:22:13.692101",
     "status": "completed"
    },
    "tags": []
   },
   "outputs": [],
   "source": [
    "null_num_columns = [i for i in null_columns if i in numeric]\n",
    "null_cat_columns = [i for i in null_columns if i not in numeric]"
   ]
  },
  {
   "cell_type": "code",
   "execution_count": 15,
   "id": "d54ecf19",
   "metadata": {
    "execution": {
     "iopub.execute_input": "2022-08-23T07:22:13.737435Z",
     "iopub.status.busy": "2022-08-23T07:22:13.736840Z",
     "iopub.status.idle": "2022-08-23T07:22:13.746474Z",
     "shell.execute_reply": "2022-08-23T07:22:13.745043Z"
    },
    "papermill": {
     "duration": 0.025688,
     "end_time": "2022-08-23T07:22:13.749188",
     "exception": false,
     "start_time": "2022-08-23T07:22:13.723500",
     "status": "completed"
    },
    "tags": []
   },
   "outputs": [
    {
     "data": {
      "text/plain": [
       "['Alley',\n",
       " 'MasVnrType',\n",
       " 'BsmtQual',\n",
       " 'BsmtCond',\n",
       " 'BsmtExposure',\n",
       " 'BsmtFinType1',\n",
       " 'BsmtFinType2',\n",
       " 'Electrical',\n",
       " 'FireplaceQu',\n",
       " 'GarageType',\n",
       " 'GarageFinish',\n",
       " 'GarageQual',\n",
       " 'GarageCond',\n",
       " 'PoolQC',\n",
       " 'Fence',\n",
       " 'MiscFeature']"
      ]
     },
     "execution_count": 15,
     "metadata": {},
     "output_type": "execute_result"
    }
   ],
   "source": [
    "null_cat_columns"
   ]
  },
  {
   "cell_type": "code",
   "execution_count": 16,
   "id": "9cf6360d",
   "metadata": {
    "execution": {
     "iopub.execute_input": "2022-08-23T07:22:13.777946Z",
     "iopub.status.busy": "2022-08-23T07:22:13.777023Z",
     "iopub.status.idle": "2022-08-23T07:22:13.783127Z",
     "shell.execute_reply": "2022-08-23T07:22:13.782122Z"
    },
    "papermill": {
     "duration": 0.025589,
     "end_time": "2022-08-23T07:22:13.785583",
     "exception": false,
     "start_time": "2022-08-23T07:22:13.759994",
     "status": "completed"
    },
    "tags": []
   },
   "outputs": [],
   "source": [
    "train_num = train_features[numeric]"
   ]
  },
  {
   "cell_type": "code",
   "execution_count": 17,
   "id": "ba520200",
   "metadata": {
    "execution": {
     "iopub.execute_input": "2022-08-23T07:22:13.814907Z",
     "iopub.status.busy": "2022-08-23T07:22:13.814163Z",
     "iopub.status.idle": "2022-08-23T07:22:13.820303Z",
     "shell.execute_reply": "2022-08-23T07:22:13.819420Z"
    },
    "papermill": {
     "duration": 0.023725,
     "end_time": "2022-08-23T07:22:13.822822",
     "exception": false,
     "start_time": "2022-08-23T07:22:13.799097",
     "status": "completed"
    },
    "tags": []
   },
   "outputs": [],
   "source": [
    "train_cat = train_features[categoric]"
   ]
  },
  {
   "cell_type": "markdown",
   "id": "29379d14",
   "metadata": {
    "papermill": {
     "duration": 0.010311,
     "end_time": "2022-08-23T07:22:13.844519",
     "exception": false,
     "start_time": "2022-08-23T07:22:13.834208",
     "status": "completed"
    },
    "tags": []
   },
   "source": [
    "# Creating a Pipeline for Numeric and Categotical Valuse"
   ]
  },
  {
   "cell_type": "code",
   "execution_count": 18,
   "id": "7634b489",
   "metadata": {
    "execution": {
     "iopub.execute_input": "2022-08-23T07:22:13.870307Z",
     "iopub.status.busy": "2022-08-23T07:22:13.869482Z",
     "iopub.status.idle": "2022-08-23T07:22:15.100150Z",
     "shell.execute_reply": "2022-08-23T07:22:15.099142Z"
    },
    "papermill": {
     "duration": 1.245215,
     "end_time": "2022-08-23T07:22:15.102919",
     "exception": false,
     "start_time": "2022-08-23T07:22:13.857704",
     "status": "completed"
    },
    "tags": []
   },
   "outputs": [],
   "source": [
    "from sklearn.pipeline import Pipeline\n",
    "from sklearn.preprocessing import StandardScaler,OneHotEncoder\n",
    "from sklearn.impute import SimpleImputer\n",
    "\n",
    "num_pipeline = Pipeline([\n",
    "    ('imputer',SimpleImputer(strategy='median')),\n",
    "    ('std_scalar',StandardScaler())\n",
    "])\n",
    "\n",
    "# train_num_tr = num_pipeline.fit_transform(train_num) "
   ]
  },
  {
   "cell_type": "code",
   "execution_count": 19,
   "id": "3a4a1025",
   "metadata": {
    "execution": {
     "iopub.execute_input": "2022-08-23T07:22:15.125101Z",
     "iopub.status.busy": "2022-08-23T07:22:15.124711Z",
     "iopub.status.idle": "2022-08-23T07:22:15.192238Z",
     "shell.execute_reply": "2022-08-23T07:22:15.191031Z"
    },
    "papermill": {
     "duration": 0.081743,
     "end_time": "2022-08-23T07:22:15.194906",
     "exception": false,
     "start_time": "2022-08-23T07:22:15.113163",
     "status": "completed"
    },
    "tags": []
   },
   "outputs": [],
   "source": [
    "from sklearn.compose import ColumnTransformer\n",
    "\n",
    "final_pipeline = ColumnTransformer([\n",
    "    ('num',num_pipeline,list(train_num.columns)),\n",
    "    ('cat',OneHotEncoder(handle_unknown='ignore'),list(train_cat.columns))\n",
    "])\n",
    "\n",
    "train_final = final_pipeline.fit_transform(train_features)"
   ]
  },
  {
   "cell_type": "markdown",
   "id": "f449e2ac",
   "metadata": {
    "papermill": {
     "duration": 0.009916,
     "end_time": "2022-08-23T07:22:15.215336",
     "exception": false,
     "start_time": "2022-08-23T07:22:15.205420",
     "status": "completed"
    },
    "tags": []
   },
   "source": [
    "# Lets Try with Linear Regression."
   ]
  },
  {
   "cell_type": "code",
   "execution_count": 20,
   "id": "286ccc16",
   "metadata": {
    "execution": {
     "iopub.execute_input": "2022-08-23T07:22:15.237923Z",
     "iopub.status.busy": "2022-08-23T07:22:15.237198Z",
     "iopub.status.idle": "2022-08-23T07:22:15.750816Z",
     "shell.execute_reply": "2022-08-23T07:22:15.749981Z"
    },
    "papermill": {
     "duration": 0.527353,
     "end_time": "2022-08-23T07:22:15.752975",
     "exception": false,
     "start_time": "2022-08-23T07:22:15.225622",
     "status": "completed"
    },
    "tags": []
   },
   "outputs": [
    {
     "data": {
      "text/plain": [
       "LinearRegression()"
      ]
     },
     "execution_count": 20,
     "metadata": {},
     "output_type": "execute_result"
    }
   ],
   "source": [
    "from sklearn.linear_model import LinearRegression\n",
    "lr_model = LinearRegression()\n",
    "lr_model.fit(train_final, train_labels)"
   ]
  },
  {
   "cell_type": "code",
   "execution_count": 21,
   "id": "a436fcad",
   "metadata": {
    "execution": {
     "iopub.execute_input": "2022-08-23T07:22:15.775796Z",
     "iopub.status.busy": "2022-08-23T07:22:15.775358Z",
     "iopub.status.idle": "2022-08-23T07:22:15.798424Z",
     "shell.execute_reply": "2022-08-23T07:22:15.797107Z"
    },
    "papermill": {
     "duration": 0.037392,
     "end_time": "2022-08-23T07:22:15.800983",
     "exception": false,
     "start_time": "2022-08-23T07:22:15.763591",
     "status": "completed"
    },
    "tags": []
   },
   "outputs": [
    {
     "name": "stdout",
     "output_type": "stream",
     "text": [
      "Predicted:  [208592, 205670, 205607, 164854, 292191, 146663]\n",
      "Real Labels:  [208500, 181500, 223500, 140000, 250000, 143000]\n"
     ]
    }
   ],
   "source": [
    "def pred_rand(model):\n",
    "    t_data = train_features.loc[:5]\n",
    "    t_labels = train_labels.loc[:5]\n",
    "\n",
    "    t_data_tr = final_pipeline.transform(t_data)\n",
    "    pred = model.predict(t_data_tr)\n",
    "    pred = [int(i) for i in pred]\n",
    "    print('Predicted: ',pred)\n",
    "    print('Real Labels: ',list(t_labels))\n",
    "    \n",
    "pred_rand(lr_model)"
   ]
  },
  {
   "cell_type": "markdown",
   "id": "f37bf058",
   "metadata": {
    "papermill": {
     "duration": 0.010147,
     "end_time": "2022-08-23T07:22:15.822281",
     "exception": false,
     "start_time": "2022-08-23T07:22:15.812134",
     "status": "completed"
    },
    "tags": []
   },
   "source": [
    "Not a bad result!"
   ]
  },
  {
   "cell_type": "markdown",
   "id": "f2493586",
   "metadata": {
    "papermill": {
     "duration": 0.010613,
     "end_time": "2022-08-23T07:22:15.843419",
     "exception": false,
     "start_time": "2022-08-23T07:22:15.832806",
     "status": "completed"
    },
    "tags": []
   },
   "source": [
    "# Now, Lets try with Decision Tree"
   ]
  },
  {
   "cell_type": "code",
   "execution_count": 22,
   "id": "a37f21c3",
   "metadata": {
    "execution": {
     "iopub.execute_input": "2022-08-23T07:22:15.867129Z",
     "iopub.status.busy": "2022-08-23T07:22:15.866306Z",
     "iopub.status.idle": "2022-08-23T07:22:16.115745Z",
     "shell.execute_reply": "2022-08-23T07:22:16.114426Z"
    },
    "papermill": {
     "duration": 0.263868,
     "end_time": "2022-08-23T07:22:16.118389",
     "exception": false,
     "start_time": "2022-08-23T07:22:15.854521",
     "status": "completed"
    },
    "tags": []
   },
   "outputs": [
    {
     "data": {
      "text/plain": [
       "DecisionTreeRegressor()"
      ]
     },
     "execution_count": 22,
     "metadata": {},
     "output_type": "execute_result"
    }
   ],
   "source": [
    "from sklearn.tree import DecisionTreeRegressor\n",
    "\n",
    "dtree_model = DecisionTreeRegressor()\n",
    "dtree_model.fit(train_final, train_labels)"
   ]
  },
  {
   "cell_type": "code",
   "execution_count": 23,
   "id": "d887017c",
   "metadata": {
    "execution": {
     "iopub.execute_input": "2022-08-23T07:22:16.142362Z",
     "iopub.status.busy": "2022-08-23T07:22:16.141396Z",
     "iopub.status.idle": "2022-08-23T07:22:16.160377Z",
     "shell.execute_reply": "2022-08-23T07:22:16.159148Z"
    },
    "papermill": {
     "duration": 0.033713,
     "end_time": "2022-08-23T07:22:16.162965",
     "exception": false,
     "start_time": "2022-08-23T07:22:16.129252",
     "status": "completed"
    },
    "tags": []
   },
   "outputs": [
    {
     "name": "stdout",
     "output_type": "stream",
     "text": [
      "Predicted:  [208500, 181500, 223500, 140000, 250000, 143000]\n",
      "Real Labels:  [208500, 181500, 223500, 140000, 250000, 143000]\n"
     ]
    }
   ],
   "source": [
    "pred_rand(dtree_model)"
   ]
  },
  {
   "cell_type": "markdown",
   "id": "4e0ec22a",
   "metadata": {
    "papermill": {
     "duration": 0.010357,
     "end_time": "2022-08-23T07:22:16.184258",
     "exception": false,
     "start_time": "2022-08-23T07:22:16.173901",
     "status": "completed"
    },
    "tags": []
   },
   "source": [
    "The Decision Tree is totally overfitting!!"
   ]
  },
  {
   "cell_type": "markdown",
   "id": "6caeafbf",
   "metadata": {
    "papermill": {
     "duration": 0.010328,
     "end_time": "2022-08-23T07:22:16.205367",
     "exception": false,
     "start_time": "2022-08-23T07:22:16.195039",
     "status": "completed"
    },
    "tags": []
   },
   "source": [
    "# Lets try with RandomForest"
   ]
  },
  {
   "cell_type": "code",
   "execution_count": 24,
   "id": "db6e6912",
   "metadata": {
    "execution": {
     "iopub.execute_input": "2022-08-23T07:22:16.229472Z",
     "iopub.status.busy": "2022-08-23T07:22:16.228230Z",
     "iopub.status.idle": "2022-08-23T07:22:30.151407Z",
     "shell.execute_reply": "2022-08-23T07:22:30.150093Z"
    },
    "papermill": {
     "duration": 13.938426,
     "end_time": "2022-08-23T07:22:30.154612",
     "exception": false,
     "start_time": "2022-08-23T07:22:16.216186",
     "status": "completed"
    },
    "tags": []
   },
   "outputs": [
    {
     "data": {
      "text/plain": [
       "RandomForestRegressor()"
      ]
     },
     "execution_count": 24,
     "metadata": {},
     "output_type": "execute_result"
    }
   ],
   "source": [
    "from sklearn.ensemble import RandomForestRegressor\n",
    "\n",
    "rf_model = RandomForestRegressor()\n",
    "rf_model.fit(train_final, train_labels)"
   ]
  },
  {
   "cell_type": "code",
   "execution_count": 25,
   "id": "e6e7d3ce",
   "metadata": {
    "execution": {
     "iopub.execute_input": "2022-08-23T07:22:30.178699Z",
     "iopub.status.busy": "2022-08-23T07:22:30.178262Z",
     "iopub.status.idle": "2022-08-23T07:22:30.207695Z",
     "shell.execute_reply": "2022-08-23T07:22:30.206332Z"
    },
    "papermill": {
     "duration": 0.043929,
     "end_time": "2022-08-23T07:22:30.210053",
     "exception": false,
     "start_time": "2022-08-23T07:22:30.166124",
     "status": "completed"
    },
    "tags": []
   },
   "outputs": [
    {
     "name": "stdout",
     "output_type": "stream",
     "text": [
      "Predicted:  [207486, 176418, 220216, 151224, 266269, 143069]\n",
      "Real Labels:  [208500, 181500, 223500, 140000, 250000, 143000]\n"
     ]
    }
   ],
   "source": [
    "pred_rand(rf_model)"
   ]
  },
  {
   "cell_type": "markdown",
   "id": "20d76cff",
   "metadata": {
    "papermill": {
     "duration": 0.010771,
     "end_time": "2022-08-23T07:22:30.231910",
     "exception": false,
     "start_time": "2022-08-23T07:22:30.221139",
     "status": "completed"
    },
    "tags": []
   },
   "source": [
    "RandomForest is performing better than other two algorithms in Train Data"
   ]
  },
  {
   "cell_type": "markdown",
   "id": "a6285989",
   "metadata": {
    "papermill": {
     "duration": 0.010738,
     "end_time": "2022-08-23T07:22:30.253755",
     "exception": false,
     "start_time": "2022-08-23T07:22:30.243017",
     "status": "completed"
    },
    "tags": []
   },
   "source": [
    "# Preparing Test Data and Submission"
   ]
  },
  {
   "cell_type": "code",
   "execution_count": 26,
   "id": "75e76859",
   "metadata": {
    "execution": {
     "iopub.execute_input": "2022-08-23T07:22:30.277853Z",
     "iopub.status.busy": "2022-08-23T07:22:30.277402Z",
     "iopub.status.idle": "2022-08-23T07:22:30.304252Z",
     "shell.execute_reply": "2022-08-23T07:22:30.303174Z"
    },
    "papermill": {
     "duration": 0.042069,
     "end_time": "2022-08-23T07:22:30.306942",
     "exception": false,
     "start_time": "2022-08-23T07:22:30.264873",
     "status": "completed"
    },
    "tags": []
   },
   "outputs": [
    {
     "data": {
      "text/html": [
       "<div>\n",
       "<style scoped>\n",
       "    .dataframe tbody tr th:only-of-type {\n",
       "        vertical-align: middle;\n",
       "    }\n",
       "\n",
       "    .dataframe tbody tr th {\n",
       "        vertical-align: top;\n",
       "    }\n",
       "\n",
       "    .dataframe thead th {\n",
       "        text-align: right;\n",
       "    }\n",
       "</style>\n",
       "<table border=\"1\" class=\"dataframe\">\n",
       "  <thead>\n",
       "    <tr style=\"text-align: right;\">\n",
       "      <th></th>\n",
       "      <th>MSSubClass</th>\n",
       "      <th>MSZoning</th>\n",
       "      <th>LotFrontage</th>\n",
       "      <th>LotArea</th>\n",
       "      <th>Street</th>\n",
       "      <th>Alley</th>\n",
       "      <th>LotShape</th>\n",
       "      <th>LandContour</th>\n",
       "      <th>Utilities</th>\n",
       "      <th>LotConfig</th>\n",
       "      <th>...</th>\n",
       "      <th>ScreenPorch</th>\n",
       "      <th>PoolArea</th>\n",
       "      <th>PoolQC</th>\n",
       "      <th>Fence</th>\n",
       "      <th>MiscFeature</th>\n",
       "      <th>MiscVal</th>\n",
       "      <th>MoSold</th>\n",
       "      <th>YrSold</th>\n",
       "      <th>SaleType</th>\n",
       "      <th>SaleCondition</th>\n",
       "    </tr>\n",
       "  </thead>\n",
       "  <tbody>\n",
       "    <tr>\n",
       "      <th>0</th>\n",
       "      <td>20</td>\n",
       "      <td>RH</td>\n",
       "      <td>80.0</td>\n",
       "      <td>11622</td>\n",
       "      <td>Pave</td>\n",
       "      <td>NaN</td>\n",
       "      <td>Reg</td>\n",
       "      <td>Lvl</td>\n",
       "      <td>AllPub</td>\n",
       "      <td>Inside</td>\n",
       "      <td>...</td>\n",
       "      <td>120</td>\n",
       "      <td>0</td>\n",
       "      <td>NaN</td>\n",
       "      <td>MnPrv</td>\n",
       "      <td>NaN</td>\n",
       "      <td>0</td>\n",
       "      <td>6</td>\n",
       "      <td>2010</td>\n",
       "      <td>WD</td>\n",
       "      <td>Normal</td>\n",
       "    </tr>\n",
       "    <tr>\n",
       "      <th>1</th>\n",
       "      <td>20</td>\n",
       "      <td>RL</td>\n",
       "      <td>81.0</td>\n",
       "      <td>14267</td>\n",
       "      <td>Pave</td>\n",
       "      <td>NaN</td>\n",
       "      <td>IR1</td>\n",
       "      <td>Lvl</td>\n",
       "      <td>AllPub</td>\n",
       "      <td>Corner</td>\n",
       "      <td>...</td>\n",
       "      <td>0</td>\n",
       "      <td>0</td>\n",
       "      <td>NaN</td>\n",
       "      <td>NaN</td>\n",
       "      <td>Gar2</td>\n",
       "      <td>12500</td>\n",
       "      <td>6</td>\n",
       "      <td>2010</td>\n",
       "      <td>WD</td>\n",
       "      <td>Normal</td>\n",
       "    </tr>\n",
       "    <tr>\n",
       "      <th>2</th>\n",
       "      <td>60</td>\n",
       "      <td>RL</td>\n",
       "      <td>74.0</td>\n",
       "      <td>13830</td>\n",
       "      <td>Pave</td>\n",
       "      <td>NaN</td>\n",
       "      <td>IR1</td>\n",
       "      <td>Lvl</td>\n",
       "      <td>AllPub</td>\n",
       "      <td>Inside</td>\n",
       "      <td>...</td>\n",
       "      <td>0</td>\n",
       "      <td>0</td>\n",
       "      <td>NaN</td>\n",
       "      <td>MnPrv</td>\n",
       "      <td>NaN</td>\n",
       "      <td>0</td>\n",
       "      <td>3</td>\n",
       "      <td>2010</td>\n",
       "      <td>WD</td>\n",
       "      <td>Normal</td>\n",
       "    </tr>\n",
       "    <tr>\n",
       "      <th>3</th>\n",
       "      <td>60</td>\n",
       "      <td>RL</td>\n",
       "      <td>78.0</td>\n",
       "      <td>9978</td>\n",
       "      <td>Pave</td>\n",
       "      <td>NaN</td>\n",
       "      <td>IR1</td>\n",
       "      <td>Lvl</td>\n",
       "      <td>AllPub</td>\n",
       "      <td>Inside</td>\n",
       "      <td>...</td>\n",
       "      <td>0</td>\n",
       "      <td>0</td>\n",
       "      <td>NaN</td>\n",
       "      <td>NaN</td>\n",
       "      <td>NaN</td>\n",
       "      <td>0</td>\n",
       "      <td>6</td>\n",
       "      <td>2010</td>\n",
       "      <td>WD</td>\n",
       "      <td>Normal</td>\n",
       "    </tr>\n",
       "    <tr>\n",
       "      <th>4</th>\n",
       "      <td>120</td>\n",
       "      <td>RL</td>\n",
       "      <td>43.0</td>\n",
       "      <td>5005</td>\n",
       "      <td>Pave</td>\n",
       "      <td>NaN</td>\n",
       "      <td>IR1</td>\n",
       "      <td>HLS</td>\n",
       "      <td>AllPub</td>\n",
       "      <td>Inside</td>\n",
       "      <td>...</td>\n",
       "      <td>144</td>\n",
       "      <td>0</td>\n",
       "      <td>NaN</td>\n",
       "      <td>NaN</td>\n",
       "      <td>NaN</td>\n",
       "      <td>0</td>\n",
       "      <td>1</td>\n",
       "      <td>2010</td>\n",
       "      <td>WD</td>\n",
       "      <td>Normal</td>\n",
       "    </tr>\n",
       "  </tbody>\n",
       "</table>\n",
       "<p>5 rows × 79 columns</p>\n",
       "</div>"
      ],
      "text/plain": [
       "   MSSubClass MSZoning  LotFrontage  LotArea Street Alley LotShape  \\\n",
       "0          20       RH         80.0    11622   Pave   NaN      Reg   \n",
       "1          20       RL         81.0    14267   Pave   NaN      IR1   \n",
       "2          60       RL         74.0    13830   Pave   NaN      IR1   \n",
       "3          60       RL         78.0     9978   Pave   NaN      IR1   \n",
       "4         120       RL         43.0     5005   Pave   NaN      IR1   \n",
       "\n",
       "  LandContour Utilities LotConfig  ... ScreenPorch PoolArea PoolQC  Fence  \\\n",
       "0         Lvl    AllPub    Inside  ...         120        0    NaN  MnPrv   \n",
       "1         Lvl    AllPub    Corner  ...           0        0    NaN    NaN   \n",
       "2         Lvl    AllPub    Inside  ...           0        0    NaN  MnPrv   \n",
       "3         Lvl    AllPub    Inside  ...           0        0    NaN    NaN   \n",
       "4         HLS    AllPub    Inside  ...         144        0    NaN    NaN   \n",
       "\n",
       "  MiscFeature MiscVal  MoSold  YrSold  SaleType  SaleCondition  \n",
       "0         NaN       0       6    2010        WD         Normal  \n",
       "1        Gar2   12500       6    2010        WD         Normal  \n",
       "2         NaN       0       3    2010        WD         Normal  \n",
       "3         NaN       0       6    2010        WD         Normal  \n",
       "4         NaN       0       1    2010        WD         Normal  \n",
       "\n",
       "[5 rows x 79 columns]"
      ]
     },
     "execution_count": 26,
     "metadata": {},
     "output_type": "execute_result"
    }
   ],
   "source": [
    "test.head()"
   ]
  },
  {
   "cell_type": "code",
   "execution_count": 27,
   "id": "317c0575",
   "metadata": {
    "execution": {
     "iopub.execute_input": "2022-08-23T07:22:30.331557Z",
     "iopub.status.busy": "2022-08-23T07:22:30.331124Z",
     "iopub.status.idle": "2022-08-23T07:22:30.378123Z",
     "shell.execute_reply": "2022-08-23T07:22:30.376855Z"
    },
    "papermill": {
     "duration": 0.062399,
     "end_time": "2022-08-23T07:22:30.380855",
     "exception": false,
     "start_time": "2022-08-23T07:22:30.318456",
     "status": "completed"
    },
    "tags": []
   },
   "outputs": [],
   "source": [
    "test_final = final_pipeline.transform(test)"
   ]
  },
  {
   "cell_type": "code",
   "execution_count": 28,
   "id": "89cd927b",
   "metadata": {
    "execution": {
     "iopub.execute_input": "2022-08-23T07:22:30.406399Z",
     "iopub.status.busy": "2022-08-23T07:22:30.405726Z",
     "iopub.status.idle": "2022-08-23T07:22:30.484446Z",
     "shell.execute_reply": "2022-08-23T07:22:30.483306Z"
    },
    "papermill": {
     "duration": 0.093765,
     "end_time": "2022-08-23T07:22:30.487038",
     "exception": false,
     "start_time": "2022-08-23T07:22:30.393273",
     "status": "completed"
    },
    "tags": []
   },
   "outputs": [],
   "source": [
    "pred_prices = rf_model.predict(test_final)"
   ]
  },
  {
   "cell_type": "code",
   "execution_count": 29,
   "id": "03c6288b",
   "metadata": {
    "execution": {
     "iopub.execute_input": "2022-08-23T07:22:30.511259Z",
     "iopub.status.busy": "2022-08-23T07:22:30.510574Z",
     "iopub.status.idle": "2022-08-23T07:22:30.538223Z",
     "shell.execute_reply": "2022-08-23T07:22:30.536957Z"
    },
    "papermill": {
     "duration": 0.042731,
     "end_time": "2022-08-23T07:22:30.541036",
     "exception": false,
     "start_time": "2022-08-23T07:22:30.498305",
     "status": "completed"
    },
    "tags": []
   },
   "outputs": [],
   "source": [
    "test1 = pd.read_csv('../input/house-prices-advanced-regression-techniques/test.csv') \n"
   ]
  },
  {
   "cell_type": "code",
   "execution_count": 30,
   "id": "f08076b4",
   "metadata": {
    "execution": {
     "iopub.execute_input": "2022-08-23T07:22:30.566333Z",
     "iopub.status.busy": "2022-08-23T07:22:30.565909Z",
     "iopub.status.idle": "2022-08-23T07:22:30.578323Z",
     "shell.execute_reply": "2022-08-23T07:22:30.577082Z"
    },
    "papermill": {
     "duration": 0.027566,
     "end_time": "2022-08-23T07:22:30.580778",
     "exception": false,
     "start_time": "2022-08-23T07:22:30.553212",
     "status": "completed"
    },
    "tags": []
   },
   "outputs": [],
   "source": [
    "my_submission = pd.DataFrame({'Id': test1.Id, 'SalePrice': pred_prices})\n",
    "my_submission.to_csv('submission.csv', index=False)"
   ]
  }
 ],
 "metadata": {
  "kernelspec": {
   "display_name": "Python 3",
   "language": "python",
   "name": "python3"
  },
  "language_info": {
   "codemirror_mode": {
    "name": "ipython",
    "version": 3
   },
   "file_extension": ".py",
   "mimetype": "text/x-python",
   "name": "python",
   "nbconvert_exporter": "python",
   "pygments_lexer": "ipython3",
   "version": "3.7.12"
  },
  "papermill": {
   "default_parameters": {},
   "duration": 27.965032,
   "end_time": "2022-08-23T07:22:31.313373",
   "environment_variables": {},
   "exception": null,
   "input_path": "__notebook__.ipynb",
   "output_path": "__notebook__.ipynb",
   "parameters": {},
   "start_time": "2022-08-23T07:22:03.348341",
   "version": "2.3.4"
  }
 },
 "nbformat": 4,
 "nbformat_minor": 5
}
